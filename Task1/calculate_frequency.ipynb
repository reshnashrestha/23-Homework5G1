{
 "cells": [
  {
   "cell_type": "code",
   "execution_count": 1,
   "metadata": {},
   "outputs": [],
   "source": [
    "from fft import fft\n",
    "import numpy as np\n",
    "import pandas as pd"
   ]
  },
  {
   "cell_type": "code",
   "execution_count": 2,
   "metadata": {},
   "outputs": [],
   "source": [
    "# Load the data from a URL into a pandas DataFrame\n",
    "url = 'https://gml.noaa.gov/aftp/data/trace_gases/co2/flask/surface/txt/co2_mid_surface-flask_1_ccgg_month.txt'\n",
    "df = pd.read_csv(url, delimiter=\"\\s+\", skiprows=54, names=['site', 'year', 'month', 'value'])"
   ]
  },
  {
   "cell_type": "code",
   "execution_count": 3,
   "metadata": {},
   "outputs": [
    {
     "data": {
      "text/html": [
       "<div>\n",
       "<style scoped>\n",
       "    .dataframe tbody tr th:only-of-type {\n",
       "        vertical-align: middle;\n",
       "    }\n",
       "\n",
       "    .dataframe tbody tr th {\n",
       "        vertical-align: top;\n",
       "    }\n",
       "\n",
       "    .dataframe thead th {\n",
       "        text-align: right;\n",
       "    }\n",
       "</style>\n",
       "<table border=\"1\" class=\"dataframe\">\n",
       "  <thead>\n",
       "    <tr style=\"text-align: right;\">\n",
       "      <th></th>\n",
       "      <th>site</th>\n",
       "      <th>year</th>\n",
       "      <th>month</th>\n",
       "      <th>value</th>\n",
       "    </tr>\n",
       "  </thead>\n",
       "  <tbody>\n",
       "    <tr>\n",
       "      <th>0</th>\n",
       "      <td>MID</td>\n",
       "      <td>1985</td>\n",
       "      <td>5</td>\n",
       "      <td>350.28</td>\n",
       "    </tr>\n",
       "    <tr>\n",
       "      <th>1</th>\n",
       "      <td>MID</td>\n",
       "      <td>1985</td>\n",
       "      <td>6</td>\n",
       "      <td>348.82</td>\n",
       "    </tr>\n",
       "    <tr>\n",
       "      <th>2</th>\n",
       "      <td>MID</td>\n",
       "      <td>1985</td>\n",
       "      <td>7</td>\n",
       "      <td>347.17</td>\n",
       "    </tr>\n",
       "    <tr>\n",
       "      <th>3</th>\n",
       "      <td>MID</td>\n",
       "      <td>1985</td>\n",
       "      <td>8</td>\n",
       "      <td>344.69</td>\n",
       "    </tr>\n",
       "    <tr>\n",
       "      <th>4</th>\n",
       "      <td>MID</td>\n",
       "      <td>1985</td>\n",
       "      <td>9</td>\n",
       "      <td>342.39</td>\n",
       "    </tr>\n",
       "    <tr>\n",
       "      <th>...</th>\n",
       "      <td>...</td>\n",
       "      <td>...</td>\n",
       "      <td>...</td>\n",
       "      <td>...</td>\n",
       "    </tr>\n",
       "    <tr>\n",
       "      <th>447</th>\n",
       "      <td>MID</td>\n",
       "      <td>2022</td>\n",
       "      <td>8</td>\n",
       "      <td>415.60</td>\n",
       "    </tr>\n",
       "    <tr>\n",
       "      <th>448</th>\n",
       "      <td>MID</td>\n",
       "      <td>2022</td>\n",
       "      <td>9</td>\n",
       "      <td>414.46</td>\n",
       "    </tr>\n",
       "    <tr>\n",
       "      <th>449</th>\n",
       "      <td>MID</td>\n",
       "      <td>2022</td>\n",
       "      <td>10</td>\n",
       "      <td>416.29</td>\n",
       "    </tr>\n",
       "    <tr>\n",
       "      <th>450</th>\n",
       "      <td>MID</td>\n",
       "      <td>2022</td>\n",
       "      <td>11</td>\n",
       "      <td>418.60</td>\n",
       "    </tr>\n",
       "    <tr>\n",
       "      <th>451</th>\n",
       "      <td>MID</td>\n",
       "      <td>2022</td>\n",
       "      <td>12</td>\n",
       "      <td>420.55</td>\n",
       "    </tr>\n",
       "  </tbody>\n",
       "</table>\n",
       "<p>452 rows × 4 columns</p>\n",
       "</div>"
      ],
      "text/plain": [
       "    site  year  month   value\n",
       "0    MID  1985      5  350.28\n",
       "1    MID  1985      6  348.82\n",
       "2    MID  1985      7  347.17\n",
       "3    MID  1985      8  344.69\n",
       "4    MID  1985      9  342.39\n",
       "..   ...   ...    ...     ...\n",
       "447  MID  2022      8  415.60\n",
       "448  MID  2022      9  414.46\n",
       "449  MID  2022     10  416.29\n",
       "450  MID  2022     11  418.60\n",
       "451  MID  2022     12  420.55\n",
       "\n",
       "[452 rows x 4 columns]"
      ]
     },
     "execution_count": 3,
     "metadata": {},
     "output_type": "execute_result"
    }
   ],
   "source": [
    "df"
   ]
  },
  {
   "cell_type": "code",
   "execution_count": 4,
   "metadata": {},
   "outputs": [],
   "source": [
    "# Convert 'value' column to a NumPy array before slicing\n",
    "cut_data = df['value'].to_numpy()[:256]\n",
    "X = fft(cut_data)"
   ]
  },
  {
   "cell_type": "code",
   "execution_count": 5,
   "metadata": {},
   "outputs": [
    {
     "name": "stdout",
     "output_type": "stream",
     "text": [
      "[0.       0.046875 0.09375  0.140625 0.1875   0.234375 0.28125  0.328125\n",
      " 0.375    0.421875 0.46875  0.515625 0.5625   0.609375 0.65625  0.703125\n",
      " 0.75     0.796875 0.84375  0.890625 0.9375   0.984375 1.03125  1.078125\n",
      " 1.125    1.171875 1.21875  1.265625 1.3125   1.359375 1.40625  1.453125\n",
      " 1.5      1.546875 1.59375  1.640625 1.6875   1.734375 1.78125  1.828125\n",
      " 1.875    1.921875 1.96875  2.015625 2.0625   2.109375 2.15625  2.203125\n",
      " 2.25     2.296875 2.34375  2.390625 2.4375   2.484375 2.53125  2.578125\n",
      " 2.625    2.671875 2.71875  2.765625 2.8125   2.859375 2.90625  2.953125\n",
      " 3.       3.046875 3.09375  3.140625 3.1875   3.234375 3.28125  3.328125\n",
      " 3.375    3.421875 3.46875  3.515625 3.5625   3.609375 3.65625  3.703125\n",
      " 3.75     3.796875 3.84375  3.890625 3.9375   3.984375 4.03125  4.078125\n",
      " 4.125    4.171875 4.21875  4.265625 4.3125   4.359375 4.40625  4.453125\n",
      " 4.5      4.546875 4.59375  4.640625 4.6875   4.734375 4.78125  4.828125\n",
      " 4.875    4.921875 4.96875  5.015625 5.0625   5.109375 5.15625  5.203125\n",
      " 5.25     5.296875 5.34375  5.390625 5.4375   5.484375 5.53125  5.578125\n",
      " 5.625    5.671875 5.71875  5.765625 5.8125   5.859375 5.90625  5.953125]\n"
     ]
    }
   ],
   "source": [
    "def calculate_frequencies(X):\n",
    "    sample_spacing = 1/12  #assuming yearly data, so the spacing is cycles per year\n",
    "    N = len(X)\n",
    "    freqs = np.fft.fftfreq(N, d=sample_spacing)\n",
    "    return freqs[:N//2]   # return only positive frequencies\n",
    "#calculate frequencies\n",
    "frequencies = calculate_frequencies(X)\n",
    "\n",
    "print(frequencies)"
   ]
  }
 ],
 "metadata": {
  "kernelspec": {
   "display_name": "Python 3",
   "language": "python",
   "name": "python3"
  },
  "language_info": {
   "codemirror_mode": {
    "name": "ipython",
    "version": 3
   },
   "file_extension": ".py",
   "mimetype": "text/x-python",
   "name": "python",
   "nbconvert_exporter": "python",
   "pygments_lexer": "ipython3",
   "version": "3.11.5"
  }
 },
 "nbformat": 4,
 "nbformat_minor": 2
}
